{
 "cells": [
  {
   "cell_type": "markdown",
   "metadata": {},
   "source": [
    "# Getting started"
   ]
  },
  {
   "cell_type": "code",
   "execution_count": 2,
   "metadata": {},
   "outputs": [],
   "source": [
    "from whoosh.index import create_in\n",
    "from whoosh.fields import *"
   ]
  },
  {
   "cell_type": "code",
   "execution_count": 3,
   "metadata": {},
   "outputs": [],
   "source": [
    "schema = Schema(title=TEXT(stored=True), path=ID(stored=True), content=TEXT)"
   ]
  },
  {
   "cell_type": "code",
   "execution_count": 4,
   "metadata": {},
   "outputs": [
    {
     "name": "stdout",
     "output_type": "stream",
     "text": [
      "<Schema: ['content', 'path', 'title']>\n"
     ]
    }
   ],
   "source": [
    "print(schema)"
   ]
  },
  {
   "cell_type": "markdown",
   "metadata": {},
   "source": [
    "Make sure you have the directory \"indexdir\" created beforehand in the folder where you start the notebook"
   ]
  },
  {
   "cell_type": "code",
   "execution_count": 201,
   "metadata": {},
   "outputs": [],
   "source": [
    "ix = create_in(\"indexdir_collection5\", schema)\n",
    "writer = ix.writer()"
   ]
  },
  {
   "cell_type": "code",
   "execution_count": 202,
   "metadata": {
    "collapsed": true
   },
   "outputs": [],
   "source": [
    "file_path = 'C:/Users/Bin/Desktop/collection.tsv'\n",
    "with open(file_path,encoding='utf-8') as hfile:\n",
    "    lines = hfile.read().splitlines()"
   ]
  },
  {
   "cell_type": "code",
   "execution_count": 194,
   "metadata": {},
   "outputs": [],
   "source": [
    "# check split line detail\n",
    "'''\n",
    "count = 0\n",
    "file_path = 'C:/Users/Bin/Desktop/test.txt'\n",
    "with open(file_path,'w',encoding='utf-8') as f:\n",
    "    for line in lines:\n",
    "        if ('|' in line)& line.startswith('clueweb09-en')==False:\n",
    "            f.write(line+'\\n')\n",
    "'''"
   ]
  },
  {
   "cell_type": "markdown",
   "metadata": {},
   "source": [
    "     # Problem 4 (A) -- indexing the collection.tsv"
   ]
  },
  {
   "cell_type": "code",
   "execution_count": 203,
   "metadata": {},
   "outputs": [],
   "source": [
    "text = \"\"\n",
    "title = \"\"\n",
    "path = \"\"\n",
    "for line in lines:\n",
    "    line = line.replace('||','')\n",
    "    if ('|' in line)& line.startswith('clueweb09-en')==False:\n",
    "        line = line.replace('|','')\n",
    "    if ('|' not in line) & line.startswith('clueweb09-en'):\n",
    "        writer.add_document(title=\"\",path=line.split(\"\\t\")[0],content=\"\")\n",
    "        continue\n",
    "    if line.startswith('clueweb09-en') & len(text)!=0:\n",
    "        writer.add_document(title=title,path=path,content=text)\n",
    "        text = \"\"\n",
    "        title = line.split('|')[1] \n",
    "        path = line.split('|')[0].split('\\t')[0]\n",
    "    elif line.startswith('clueweb09-en')==False:\n",
    "        text += line\n",
    "    else :\n",
    "        title = line.split('|')[1]\n",
    "        path = line.split('|')[0].split('\\t')[0]\n",
    "writer.commit()"
   ]
  },
  {
   "cell_type": "code",
   "execution_count": 30,
   "metadata": {
    "collapsed": true
   },
   "outputs": [],
   "source": [
    "from whoosh.qparser import QueryParser"
   ]
  },
  {
   "cell_type": "markdown",
   "metadata": {},
   "source": [
    "the query we will use now is \"first\""
   ]
  },
  {
   "cell_type": "code",
   "execution_count": 209,
   "metadata": {},
   "outputs": [
    {
     "name": "stdout",
     "output_type": "stream",
     "text": [
      "<Hit {'path': 'clueweb09-en0003-32-21337', 'title': 'Position:'}>\n"
     ]
    }
   ],
   "source": [
    "with ix.searcher() as searcher:\n",
    " query = QueryParser(\"content\", ix.schema).parse(\"baseball\")\n",
    " results = searcher.search(query)\n",
    " print(results[0])\n"
   ]
  },
  {
   "cell_type": "markdown",
   "metadata": {},
   "source": [
    "# Custom ranking functions"
   ]
  },
  {
   "cell_type": "code",
   "execution_count": 95,
   "metadata": {
    "collapsed": true
   },
   "outputs": [],
   "source": [
    "from whoosh import scoring\n",
    "from whoosh import reading\n"
   ]
  },
  {
   "cell_type": "code",
   "execution_count": 121,
   "metadata": {},
   "outputs": [],
   "source": [
    "w = scoring.TF_IDF()"
   ]
  },
  {
   "cell_type": "code",
   "execution_count": 152,
   "metadata": {},
   "outputs": [
    {
     "name": "stdout",
     "output_type": "stream",
     "text": [
      "<Hit {'path': '/a', 'title': 'First document'}> 1.7836046756755068\n",
      "<Hit {'path': '/b', 'title': 'Second document'}> 1.1890697837836712\n"
     ]
    }
   ],
   "source": [
    "with ix.searcher(weighting =w) as searcher:\n",
    " query = QueryParser(\"content\", ix.schema).parse(\"first\")\n",
    " results = searcher.search(query)\n",
    " for i in range(len(results)):\n",
    "     print (results[i],results[i].score)"
   ]
  },
  {
   "cell_type": "markdown",
   "metadata": {},
   "source": [
    "You can define a custom scoring function too. pos_score_fn computes a score for a given document using only one field. Here the score is based on the first occurence (position) of the query term."
   ]
  },
  {
   "cell_type": "markdown",
   "metadata": {},
   "source": [
    "      # Problem 4 (A) -- tf-idf function"
   ]
  },
  {
   "cell_type": "code",
   "execution_count": 211,
   "metadata": {},
   "outputs": [],
   "source": [
    "def tfidf_fn(searcher, fieldname, text, matcher):\n",
    "     poses = matcher.value_as(\"positions\")\n",
    "     idf = searcher.idf(fieldname,text)\n",
    "     tf = len(poses)\n",
    "     return tf*idf\n",
    "my_tfidf = scoring.FunctionWeighting(tfidf_fn)"
   ]
  },
  {
   "cell_type": "code",
   "execution_count": 222,
   "metadata": {},
   "outputs": [
    {
     "name": "stdout",
     "output_type": "stream",
     "text": [
      "<Top 10 Results for Term('content', 'baseball') runtime=0.0008303585200337693>\n",
      "<Hit {'path': 'clueweb09-en0003-32-21337', 'title': 'Position:'}> 28.459537349952047\n",
      "<Hit {'path': 'clueweb09-en0006-84-09638', 'title': 'More Featured Items'}> 14.229768674976023\n",
      "<Hit {'path': 'clueweb09-en0006-85-33143', 'title': \"West Baden Springs Hotel's History:\"}> 14.229768674976023\n",
      "<Hit {'path': 'clueweb09-en0003-13-14436', 'title': 'Content-Length: 65536 Mit cloning human ear mitchell barlow woolworths queensgate  mitchell airport in milwaukee wi  misty voicings  misty vs super sonic 4 . Misty edwards worship music mistress anjolie  mistress of voltaire  mitch cain taxidermy  misty mundae in black opaque tights  mistletoe kiss  mistress desiree maine'}> 14.229768674976023\n",
      "<Hit {'path': 'clueweb09-en0006-84-09637', 'title': 'More Featured Items'}> 9.486512449984016\n",
      "<Hit {'path': 'clueweb09-en0006-84-09636', 'title': 'More Featured Items'}> 9.486512449984016\n",
      "<Hit {'path': 'clueweb09-en0008-17-16833', 'title': 'Poker Player Reese Dies at 56'}> 9.486512449984016\n",
      "<Hit {'path': 'clueweb09-en0006-97-08104', 'title': 'While the video is loading, please scroll down and read the profile to learn more about Mitchell. The video will play automatically when loaded.'}> 9.486512449984016\n",
      "<Hit {'path': 'clueweb09-en0002-46-17541', 'title': 'PROFESSOR KEVIN MITCHELL received his        Ph.D. in Mathematics at Brown University in 1980. His thesis,'}> 9.486512449984016\n",
      "<Hit {'path': 'clueweb09-en0007-17-32879', 'title': \"Mitchell's    Professional Affiliations and Work\"}> 9.486512449984016\n"
     ]
    }
   ],
   "source": [
    "with ix.searcher(weighting =my_tfidf) as searcher:\n",
    " query = QueryParser(\"content\", ix.schema).parse(\"baseball\")\n",
    " results = searcher.search(query)\n",
    " print(results)\n",
    " for i in range(10):\n",
    "     print (results[i],results[i].score)"
   ]
  },
  {
   "cell_type": "markdown",
   "metadata": {},
   "source": [
    "      # Problem 4 (A) -- tf*position function"
   ]
  },
  {
   "cell_type": "code",
   "execution_count": 220,
   "metadata": {
    "collapsed": true
   },
   "outputs": [],
   "source": [
    "def tftp_fn(searcher, fieldname, text, matcher):\n",
    "     poses = matcher.value_as(\"positions\")\n",
    "     tf = len(poses)\n",
    "     sum = 0\n",
    "     for p in poses:\n",
    "        sum += tf*p \n",
    "     return sum\n",
    "my_tftp = scoring.FunctionWeighting(tftp_fn)"
   ]
  },
  {
   "cell_type": "code",
   "execution_count": 221,
   "metadata": {},
   "outputs": [
    {
     "name": "stdout",
     "output_type": "stream",
     "text": [
      "<Top 10 Results for Term('content', 'baseball') runtime=0.0005324213634594344>\n",
      "<Hit {'path': 'clueweb09-en0003-13-14436', 'title': 'Content-Length: 65536 Mit cloning human ear mitchell barlow woolworths queensgate  mitchell airport in milwaukee wi  misty voicings  misty vs super sonic 4 . Misty edwards worship music mistress anjolie  mistress of voltaire  mitch cain taxidermy  misty mundae in black opaque tights  mistletoe kiss  mistress desiree maine'}> 43656\n",
      "<Hit {'path': 'clueweb09-en0011-33-12559', 'title': 'Home : Organize Blog'}> 7450\n",
      "<Hit {'path': 'clueweb09-en0011-33-12559', 'title': 'Home : Organize Blog'}> 7450\n",
      "<Hit {'path': 'clueweb09-en0003-32-21337', 'title': 'Position:'}> 6516\n",
      "<Hit {'path': 'clueweb09-en0001-87-06458', 'title': 'Student Athlete'}> 3366\n",
      "<Hit {'path': 'clueweb09-en0005-27-24996', 'title': 'On the Web: Read the Mitchell Report'}> 3270\n",
      "<Hit {'path': 'clueweb09-en0001-86-15563', 'title': 'The Clarence M. Mitchell, Jr. School of Engineering'}> 2382\n",
      "<Hit {'path': 'clueweb09-en0006-84-09638', 'title': 'More Featured Items'}> 2301\n",
      "<Hit {'path': 'clueweb09-en0008-17-16833', 'title': 'Poker Player Reese Dies at 56'}> 2238\n",
      "<Hit {'path': 'clueweb09-en0002-46-17541', 'title': 'PROFESSOR KEVIN MITCHELL received his        Ph.D. in Mathematics at Brown University in 1980. His thesis,'}> 2096\n"
     ]
    }
   ],
   "source": [
    "with ix.searcher(weighting =my_tftp) as searcher:\n",
    " query = QueryParser(\"content\", ix.schema).parse(\"baseball\")\n",
    " results = searcher.search(query)\n",
    " print(results)\n",
    " for i in range(10):\n",
    "     print (results[i],results[i].score)"
   ]
  },
  {
   "cell_type": "markdown",
   "metadata": {},
   "source": [
    "# Indexing a collection and computing metrics"
   ]
  },
  {
   "cell_type": "code",
   "execution_count": 15,
   "metadata": {
    "collapsed": true
   },
   "outputs": [],
   "source": [
    "import csv"
   ]
  },
  {
   "cell_type": "code",
   "execution_count": 17,
   "metadata": {},
   "outputs": [],
   "source": [
    "def unicode_csv_reader(utf8_data, dialect=csv.excel, **kwargs):\n",
    " csv_reader = csv.reader(utf8_data, dialect=dialect, **kwargs)\n",
    " for row in csv_reader:\n",
    "     yield [unicode(cell, 'utf-8') for cell in row]"
   ]
  },
  {
   "cell_type": "code",
   "execution_count": 18,
   "metadata": {
    "collapsed": true
   },
   "outputs": [],
   "source": [
    "def read_file(file_path, delimiter='\\t'):\n",
    " with open(file_path, 'r') as csvfile:\n",
    "     reader = csv.reader(csvfile, delimiter=delimiter, quotechar='|', quoting=csv.QUOTE_MINIMAL)\n",
    " doc_list = []\n",
    " for row in reader:\n",
    "     doc_list.append((row[0],row[1], row[2].replace('\\n',' ')))\n",
    "\n",
    " return doc_list"
   ]
  },
  {
   "cell_type": "code",
   "execution_count": 19,
   "metadata": {},
   "outputs": [
    {
     "ename": "FileNotFoundError",
     "evalue": "[Errno 2] No such file or directory: 'clueweb_clean_docs.tsv'",
     "output_type": "error",
     "traceback": [
      "\u001b[1;31m---------------------------------------------------------------------------\u001b[0m",
      "\u001b[1;31mFileNotFoundError\u001b[0m                         Traceback (most recent call last)",
      "\u001b[1;32m<ipython-input-19-3c440c8c7382>\u001b[0m in \u001b[0;36m<module>\u001b[1;34m()\u001b[0m\n\u001b[1;32m----> 1\u001b[1;33m \u001b[0mdoc_list\u001b[0m \u001b[1;33m=\u001b[0m \u001b[0mread_file\u001b[0m\u001b[1;33m(\u001b[0m\u001b[1;34m\"clueweb_clean_docs.tsv\"\u001b[0m\u001b[1;33m)\u001b[0m\u001b[1;33m\u001b[0m\u001b[0m\n\u001b[0m",
      "\u001b[1;32m<ipython-input-18-ceb982c6dab0>\u001b[0m in \u001b[0;36mread_file\u001b[1;34m(file_path, delimiter)\u001b[0m\n\u001b[0;32m      1\u001b[0m \u001b[1;32mdef\u001b[0m \u001b[0mread_file\u001b[0m\u001b[1;33m(\u001b[0m\u001b[0mfile_path\u001b[0m\u001b[1;33m,\u001b[0m \u001b[0mdelimiter\u001b[0m\u001b[1;33m=\u001b[0m\u001b[1;34m'\\t'\u001b[0m\u001b[1;33m)\u001b[0m\u001b[1;33m:\u001b[0m\u001b[1;33m\u001b[0m\u001b[0m\n\u001b[1;32m----> 2\u001b[1;33m  \u001b[1;32mwith\u001b[0m \u001b[0mopen\u001b[0m\u001b[1;33m(\u001b[0m\u001b[0mfile_path\u001b[0m\u001b[1;33m,\u001b[0m \u001b[1;34m'r'\u001b[0m\u001b[1;33m)\u001b[0m \u001b[1;32mas\u001b[0m \u001b[0mcsvfile\u001b[0m\u001b[1;33m:\u001b[0m\u001b[1;33m\u001b[0m\u001b[0m\n\u001b[0m\u001b[0;32m      3\u001b[0m      \u001b[0mreader\u001b[0m \u001b[1;33m=\u001b[0m \u001b[0mcsv\u001b[0m\u001b[1;33m.\u001b[0m\u001b[0mreader\u001b[0m\u001b[1;33m(\u001b[0m\u001b[0mcsvfile\u001b[0m\u001b[1;33m,\u001b[0m \u001b[0mdelimiter\u001b[0m\u001b[1;33m=\u001b[0m\u001b[0mdelimiter\u001b[0m\u001b[1;33m,\u001b[0m \u001b[0mquotechar\u001b[0m\u001b[1;33m=\u001b[0m\u001b[1;34m'|'\u001b[0m\u001b[1;33m,\u001b[0m \u001b[0mquoting\u001b[0m\u001b[1;33m=\u001b[0m\u001b[0mcsv\u001b[0m\u001b[1;33m.\u001b[0m\u001b[0mQUOTE_MINIMAL\u001b[0m\u001b[1;33m)\u001b[0m\u001b[1;33m\u001b[0m\u001b[0m\n\u001b[0;32m      4\u001b[0m  \u001b[0mdoc_list\u001b[0m \u001b[1;33m=\u001b[0m \u001b[1;33m[\u001b[0m\u001b[1;33m]\u001b[0m\u001b[1;33m\u001b[0m\u001b[0m\n\u001b[0;32m      5\u001b[0m  \u001b[1;32mfor\u001b[0m \u001b[0mrow\u001b[0m \u001b[1;32min\u001b[0m \u001b[0mreader\u001b[0m\u001b[1;33m:\u001b[0m\u001b[1;33m\u001b[0m\u001b[0m\n",
      "\u001b[1;31mFileNotFoundError\u001b[0m: [Errno 2] No such file or directory: 'clueweb_clean_docs.tsv'"
     ]
    }
   ],
   "source": [
    "doc_list = read_file(\"clueweb_clean_docs.tsv\")"
   ]
  },
  {
   "cell_type": "code",
   "execution_count": 29,
   "metadata": {},
   "outputs": [
    {
     "name": "stdout",
     "output_type": "stream",
     "text": [
      "216910 \n",
      " ('\\ufeff\\ufeffclueweb09-en0010-82-12593', '18.0852279663', 'Roth 403b Plans Roth 403b Plans Included in the Bush Administrations Fiscal Year 2006 Budget were some changes to the way you can fund your 403b plan - the new Roth 403b.\\xa0 In this publication we\\'re going to discuss the benefits of a Roth 403b along with the rules of these plans including withdrawals / distributions, contributions, and income taxes. Background of the Roth 403b Starting in January 2006, operators of traditional 403b plans can offer their employees what\\'s being called a Roth 403b plan.\\xa0 In essence, offering \"Roth\" treatment of funds going into a 403b account. \\xa0 Additional Resources Roth IRA versus 403b Plan A Roth 403b combines the contribution features of 403b plans with the tax-free growth advantage of Roth IRAs .\\xa0 Employees currently offered the ability to fund their retirement plans via 403b plans may now be offered the option of participating in a Roth 403b.\\xa0 With this new plan, you\\'ll never have to pay federal income taxes on the growth portion of your account, or your contributions, when you withdraw the money. Roth 403b Fund Requirements There are very few requirements of these new Roth 403b plans.\\xa0 Employers have the opportunity to consolidate a variety of retirement funds into what are called Employer Retirement Savings Accounts, or ERSAs.\\xa0 These ERSAs will be available to all employers that meet some pretty simple qualifications. As previously mentioned, the proposal becomes effective for the years beginning after December 31, 2005.\\xa0 In most situations, that translated into January 1, 2006.\\xa0 Retirement money placed into a Roth 403b has to be kept in an account that is separate from other funding.\\xa0 That\\'s about it as far as employers are concerned. Benefits of Roth 403b Plans Many employees already participating in a 403b plan at work will be offered the opportunity to participate in Roth 403b.\\xa0 For those people, the question they are going to be asking themselves is simply this:\\xa0 \"Should I fund a Roth 403b or stick with my existing 403b plan?\" The answer to that question has to do with each plan\\'s income tax treatment of contributions and withdrawals and what they believe their income tax bracket will be in retirement.\\xa0 By making\\xa0before before-tax contributions to your traditional 403b plan, you\\'re reducing your current tax liability.\\xa0 With Roth 403b contributions, you\\'ll be making after-tax contributions: While before-tax contributions act to reduce your taxable income today, you\\'re going to pay income taxes on the contributions and earnings when they\\'re distributed to you at retirement. Roth 403b contributions won\\'t reduce your taxable income right now.\\xa0 But these contributions, and the earnings on them, are tax-free at retirement - as long as you\\'re at least age 591/2 and your Roth 403b account is at least five years old. So if you believe you\\'re in a higher tax bracket today than you will be in retirement, then sticking with a 403b plan might be your best move.\\xa0 If you think your tax bracket will stay the same or increase in your retirement years, then a Roth 403b is probably your best move. Roth Treatment of 403b Contributions The key here is that plan administrators can elect to make available to their employees Roth treatment of contributions to retirement savings plans such as a 403b plan.\\xa0 The intention of the proposed change would be to help consolidate all of the retirement accounts that permit employees to make after-tax contributions to a retirement savings account. Roth 403b Contribution Limits ESRAs need to follow the rules previously outlined for 401k plans with additional simplifications - we\\'ve already talked about 401k contribution rules \\xa0in a previous article.\\xa0 Employees can defer or contribute up to $15,500 in wages annually in 2008, and $16,500 in\\xa02009.\\xa0 And like other retirement plans, there is an additional catch-up contribution of $5,000 for employees 50 and older in 2008, and $5,500 in 2009.\\xa0 The maximum total contribution limit - which also includes employer contributions - is the lesser of $46,000 or 100% of the employee\\'s compensation in 2008.\\xa0 The maximum total contribution limit in the year 2009 is $49,000. For information on the contribution limits for the years 2010 and beyond, take a look at our article on 403b Contribution Rules . Roth 403b Withdrawals and Distributions Like its predecessors, the Roth 403b was established as a retirement plan.\\xa0 That means the IRS looks down on early withdrawals that occur before age 59 1/2.\\xa0 Hardship or other types of withdrawals are subject to the same 403b rules and penalties that are currently on the books.\\xa0 And the Roth 403b minimum distribution rules are also similar to 403b withdrawals plans - meaning you need to start to take mandatory distributions when you reach age 70 1/2. Taxes on Roth 403b Distributions and Contributions The tax liabilities associated with employee contributions and distributions from an ERSA would be the same as the plans that the ESRA is replacing.\\xa0 That means the employee could fund an ERSA with pre-tax monies, after-tax contributions, or Roth contributions.\\xa0 The exact type of contribution will depend on the plan\\'s design. Distributions of Roth 403b (after-tax) contributions, and the earnings of those same contributions, would not be included in income for tax purposes.\\xa0 Other distributions - such as those made on a before-tax basis - would be included as taxable income. So the rules are similar to those of existing plans, but the introduction of the \"Roth\" concept and its benefits add to the plan\\'s overall attractiveness as a retirement fund. Roth 403b Income Tax Rules The income tax rules for a Roth 403b are fairly easy to remember if you think of the plan using these two rules of thumb: This type of plan allows you to put money into your account on an after-tax basis - just like a Roth IRA.\\xa0 And just like a Roth IRA, the distributions from a Roth 403b are free from federal income taxes. If your employer contributes to your Roth 403b - such as the case when employers match funds - then those contributions have gone into an account on a before-tax basis (you never paid income taxes on your employer\\'s contributions.)\\xa0 Therefore the portion of your Roth 403b funding that comes from employer contributions is subject to federal income taxes upon withdrawal. In most cases, an employer\\'s matching contributions to Roth 403b will be placed in a traditional 403b account. About the Author - Roth 403b Plans Copyright nbsp;2006 - 2008 Money-Zine.com')\n"
     ]
    }
   ],
   "source": [
    "print(len(doc_list),'\\n', doc_list[0])"
   ]
  },
  {
   "cell_type": "code",
   "execution_count": 30,
   "metadata": {},
   "outputs": [],
   "source": [
    "schema = Schema(id=ID(stored=True), content=TEXT)\n",
    "ix = create_in(\"cw_index\", schema)\n",
    "writer = ix.writer()"
   ]
  },
  {
   "cell_type": "code",
   "execution_count": 31,
   "metadata": {},
   "outputs": [],
   "source": [
    "for doc in doc_list[:1000]:\n",
    " writer.add_document(id=doc[0],content=doc[2])\n",
    "writer.commit()"
   ]
  },
  {
   "cell_type": "code",
   "execution_count": 32,
   "metadata": {
    "collapsed": true
   },
   "outputs": [],
   "source": [
    "query_str = \"403b\"\n",
    "result_list = []"
   ]
  },
  {
   "cell_type": "code",
   "execution_count": 34,
   "metadata": {},
   "outputs": [
    {
     "name": "stdout",
     "output_type": "stream",
     "text": [
      "Results found: 288\n",
      "ï»¿ï»¿clueweb09-en0010-82-12593 4.68235845867756\n",
      "clueweb09-en0002-19-09466 4.606890901190984\n",
      "clueweb09-en0010-82-12588 4.576296584299555\n",
      "clueweb09-en0010-82-12589 4.574809817919019\n",
      "clueweb09-en0010-82-12587 4.483470812852932\n",
      "clueweb09-en0009-84-33862 4.450273110200792\n",
      "clueweb09-en0008-24-06210 4.341685424381006\n",
      "clueweb09-en0000-14-03360 4.234154273566411\n",
      "clueweb09-en0004-01-03541 4.194615271966087\n",
      "clueweb09-en0004-80-00508 4.193528868778884\n",
      "clueweb09-en0008-41-10509 4.1769417838009195\n",
      "clueweb09-en0009-52-27808 4.111156204215051\n",
      "clueweb09-en0009-82-05607 4.097154045886272\n",
      "clueweb09-en0007-55-00718 4.065995269601156\n",
      "clueweb09-en0001-41-08510 4.035306840104864\n",
      "clueweb09-en0010-82-12518 3.9562982164117613\n",
      "clueweb09-en0007-55-00719 3.9464327968911745\n",
      "clueweb09-en0008-24-06121 3.913863776352913\n",
      "clueweb09-en0009-94-31189 3.8456964156242117\n",
      "clueweb09-en0005-82-07314 3.813692823434889\n",
      "clueweb09-en0008-62-39243 3.746270626291283\n",
      "clueweb09-en0003-88-24169 3.738143499793505\n",
      "clueweb09-en0011-06-39804 3.731251904172552\n",
      "clueweb09-en0000-97-20518 3.705392410995217\n",
      "clueweb09-en0009-46-17686 3.6993460289572138\n",
      "clueweb09-en0011-67-00065 3.6737192229051923\n",
      "clueweb09-en0010-88-01445 3.6714655536034453\n",
      "clueweb09-en0008-60-09818 3.6714655536034453\n",
      "clueweb09-en0000-25-20929 3.6135649174345574\n",
      "clueweb09-en0001-41-08506 3.5973558052492653\n",
      "clueweb09-en0008-46-17648 3.5812914598266934\n",
      "clueweb09-en0007-55-00754 3.5716618847822237\n",
      "clueweb09-en0003-16-13779 3.5716618847822237\n",
      "clueweb09-en0009-74-17389 3.557462165140927\n",
      "clueweb09-en0004-83-01960 3.557462165140927\n",
      "clueweb09-en0000-85-24996 3.557462165140927\n",
      "clueweb09-en0005-82-27244 3.541751363995012\n",
      "clueweb09-en0010-79-01542 3.541751363995012\n",
      "clueweb09-en0001-92-00499 3.4954406760693475\n",
      "clueweb09-en0001-92-00529 3.4954406760693475\n",
      "clueweb09-en0011-06-39809 3.4802717420235307\n",
      "clueweb09-en0011-49-32965 3.4802717420235307\n",
      "clueweb09-en0008-02-24727 3.4802717420235307\n",
      "clueweb09-en0008-02-24716 3.4802717420235307\n",
      "clueweb09-en0005-81-30831 3.465233894361927\n",
      "clueweb09-en0004-62-21431 3.4487860308662524\n",
      "clueweb09-en0004-20-13408 3.4433380528471402\n",
      "clueweb09-en0003-93-27146 3.4344657822414297\n",
      "clueweb09-en0011-52-03669 3.4344657822414297\n",
      "clueweb09-en0002-20-15453 3.4282017461325967\n",
      "clueweb09-en0008-64-11078 3.4282017461325967\n",
      "clueweb09-en0004-51-33789 3.4282017461325967\n",
      "clueweb09-en0008-23-16530 3.4136095657155328\n",
      "clueweb09-en0001-02-27070 3.3991410823502632\n",
      "clueweb09-en0004-35-06003 3.385199542631527\n",
      "clueweb09-en0000-41-16092 3.377666870381926\n",
      "clueweb09-en0011-68-03841 3.3726420159984603\n",
      "clueweb09-en0007-03-16611 3.363500834877862\n",
      "clueweb09-en0003-95-21017 3.3620001570226004\n",
      "clueweb09-en0010-62-17439 3.342473186659149\n",
      "clueweb09-en0000-13-29144 3.342473186659149\n",
      "clueweb09-en0000-95-10297 3.342473186659149\n",
      "clueweb09-en0006-73-25389 3.321706822688341\n",
      "clueweb09-en0004-33-24199 3.321706822688341\n",
      "clueweb09-en0005-82-33573 3.321706822688341\n",
      "clueweb09-en0008-86-21354 3.301196903057031\n",
      "clueweb09-en0009-63-21838 3.28093870665956\n",
      "clueweb09-en0010-17-26572 3.26286796162711\n",
      "clueweb09-en0003-16-13798 3.2609276275700094\n",
      "clueweb09-en0009-79-14364 3.257404450633626\n",
      "clueweb09-en0001-41-26079 3.2411591715509807\n",
      "clueweb09-en0007-54-13479 3.2411591715509807\n",
      "clueweb09-en0008-77-26203 3.2411591715509807\n",
      "clueweb09-en0007-54-13482 3.2411591715509807\n",
      "clueweb09-en0005-52-18981 3.2332698541590212\n",
      "clueweb09-en0008-84-31988 3.2332698541590212\n",
      "clueweb09-en0007-18-30966 3.215669172868878\n",
      "clueweb09-en0007-97-12197 3.195951867774379\n",
      "clueweb09-en0007-93-11243 3.1769610636967687\n",
      "clueweb09-en0004-20-13399 3.147612057662627\n",
      "clueweb09-en0009-73-08566 3.147612057662627\n",
      "clueweb09-en0007-40-22841 3.147612057662627\n",
      "clueweb09-en0007-84-37981 3.1399968754827734\n",
      "clueweb09-en0010-79-01651 3.1335148764691723\n",
      "clueweb09-en0009-93-11725 3.1335148764691723\n",
      "clueweb09-en0009-04-27409 3.1335148764691723\n",
      "clueweb09-en0008-83-13310 3.1335148764691723\n",
      "clueweb09-en0010-33-29246 3.1092178636541257\n",
      "clueweb09-en0011-77-05552 3.1092178636541257\n",
      "clueweb09-en0011-95-18002 3.1092178636541257\n",
      "clueweb09-en0009-15-34349 3.1092178636541257\n",
      "clueweb09-en0002-85-01347 3.1092178636541257\n",
      "clueweb09-en0005-53-09280 3.1075512448894806\n",
      "clueweb09-en0004-67-26353 3.0852947457083317\n",
      "clueweb09-en0001-54-14652 3.061736958001816\n",
      "clueweb09-en0007-55-00847 3.061736958001816\n",
      "clueweb09-en0000-36-25235 3.061736958001816\n",
      "clueweb09-en0002-79-25031 3.061736958001816\n",
      "clueweb09-en0011-43-11159 3.061736958001816\n",
      "clueweb09-en0001-79-26694 3.061736958001816\n",
      "clueweb09-en0006-95-39509 3.0327908407451405\n",
      "clueweb09-en0002-35-09523 3.0327908407451405\n",
      "clueweb09-en0011-44-17887 3.0327908407451405\n",
      "clueweb09-en0004-37-04144 3.0327908407451405\n",
      "clueweb09-en0003-30-08703 3.0327908407451405\n",
      "clueweb09-en0003-30-08704 3.0327908407451405\n",
      "clueweb09-en0010-99-06872 3.0327908407451405\n",
      "clueweb09-en0006-94-08016 3.0327908407451405\n",
      "clueweb09-en0011-58-36244 3.0327908407451405\n",
      "clueweb09-en0011-98-17424 3.0100250605249226\n",
      "clueweb09-en0005-56-35975 3.00846305844279\n",
      "clueweb09-en0007-55-00716 2.9875985184948783\n",
      "clueweb09-en0005-24-24966 2.9875985184948783\n",
      "clueweb09-en0001-23-25550 2.9875985184948783\n",
      "clueweb09-en0006-59-15562 2.9875985184948783\n",
      "clueweb09-en0005-25-15002 2.96003094963441\n",
      "clueweb09-en0010-55-07748 2.96003094963441\n",
      "clueweb09-en0003-51-00909 2.96003094963441\n",
      "clueweb09-en0009-25-11750 2.9404413324577168\n",
      "clueweb09-en0008-61-00155 2.9329674796068788\n",
      "clueweb09-en0002-97-16973 2.9329674796068788\n",
      "clueweb09-en0003-37-05122 2.926505676301147\n",
      "clueweb09-en0011-22-16581 2.9063944068062395\n",
      "clueweb09-en0011-70-15598 2.9063944068062395\n",
      "clueweb09-en0004-16-08467 2.9063944068062395\n",
      "clueweb09-en0002-66-04782 2.9063944068062395\n",
      "clueweb09-en0004-44-09495 2.8802985217214387\n",
      "clueweb09-en0011-99-30168 2.8802985217214387\n",
      "clueweb09-en0004-79-30162 2.8802985217214387\n",
      "clueweb09-en0009-79-14382 2.8802985217214387\n",
      "clueweb09-en0008-77-26237 2.8802985217214387\n",
      "clueweb09-en0001-99-22964 2.861248990624488\n",
      "clueweb09-en0010-79-01642 2.854667085040946\n",
      "clueweb09-en0009-81-37061 2.854667085040946\n",
      "clueweb09-en0009-33-22670 2.854667085040946\n",
      "clueweb09-en0011-55-22323 2.8245051592830754\n",
      "clueweb09-en0005-41-38503 2.8245051592830754\n",
      "clueweb09-en0009-25-16125 2.8245051592830754\n",
      "clueweb09-en0005-58-05817 2.8245051592830754\n",
      "clueweb09-en0009-92-30899 2.8245051592830754\n",
      "clueweb09-en0007-55-00762 2.8245051592830754\n",
      "clueweb09-en0001-13-16664 2.799852852680193\n",
      "clueweb09-en0010-82-12592 2.7873906447461025\n",
      "clueweb09-en0004-01-30460 2.770832234089182\n",
      "clueweb09-en0005-60-04959 2.770832234089182\n",
      "clueweb09-en0011-77-36064 2.770832234089182\n",
      "clueweb09-en0004-16-25603 2.770832234089182\n",
      "clueweb09-en0003-57-09906 2.7424070442523782\n",
      "clueweb09-en0001-41-08505 2.7424070442523782\n",
      "clueweb09-en0011-35-01851 2.7424070442523782\n",
      "clueweb09-en0006-58-17064 2.7424070442523782\n",
      "clueweb09-en0011-75-26293 2.7424070442523782\n",
      "clueweb09-en0007-84-11305 2.7424070442523782\n",
      "clueweb09-en0008-74-29642 2.7424070442523782\n",
      "clueweb09-en0004-75-07682 2.7274493294546445\n",
      "clueweb09-en0007-55-00714 2.7099727202167396\n",
      "clueweb09-en0007-55-00887 2.7099727202167396\n",
      "clueweb09-en0000-99-07984 2.7099727202167396\n",
      "clueweb09-en0005-47-21143 2.7099727202167396\n",
      "clueweb09-en0007-83-12597 2.7099727202167396\n",
      "clueweb09-en0005-97-23767 2.682776370427404\n",
      "clueweb09-en0011-90-11940 2.682776370427404\n",
      "clueweb09-en0008-24-06118 2.682776370427404\n",
      "clueweb09-en0008-24-06113 2.682776370427404\n",
      "clueweb09-en0011-26-10075 2.682776370427404\n",
      "clueweb09-en0011-49-35778 2.682776370427404\n",
      "clueweb09-en0005-38-02471 2.6574076507262654\n",
      "clueweb09-en0009-23-31423 2.6517292258538054\n",
      "clueweb09-en0000-05-20758 2.6517292258538054\n",
      "clueweb09-en0006-75-32036 2.6517292258538054\n",
      "clueweb09-en0006-21-36525 2.6517292258538054\n",
      "clueweb09-en0011-81-14065 2.6517292258538054\n",
      "clueweb09-en0009-25-11746 2.6213924629102907\n",
      "clueweb09-en0009-25-11744 2.6213924629102907\n",
      "clueweb09-en0007-03-37389 2.6213924629102907\n",
      "clueweb09-en0003-88-24206 2.6213924629102907\n",
      "clueweb09-en0001-90-03226 2.591741976284909\n",
      "clueweb09-en0008-44-37908 2.591741976284909\n",
      "clueweb09-en0002-59-21571 2.5887824395348127\n",
      "clueweb09-en0010-09-24153 2.5304104227115745\n",
      "clueweb09-en0008-37-01538 2.5304104227115745\n",
      "clueweb09-en0002-05-19563 2.5304104227115745\n",
      "clueweb09-en0000-10-01627 2.5176705085503657\n",
      "clueweb09-en0011-44-34605 2.498872360572622\n",
      "clueweb09-en0004-18-30453 2.498872360572622\n",
      "clueweb09-en0011-00-18393 2.498872360572622\n",
      "clueweb09-en0006-00-02700 2.468110777249978\n",
      "clueweb09-en0010-04-25824 2.468110777249978\n",
      "clueweb09-en0002-19-23070 2.468110777249978\n",
      "clueweb09-en0000-38-27561 2.468110777249978\n",
      "clueweb09-en0001-29-16706 2.468110777249978\n",
      "clueweb09-en0005-74-35658 2.468110777249978\n",
      "clueweb09-en0002-70-17056 2.4380973456595645\n",
      "clueweb09-en0007-09-06594 2.4380973456595645\n",
      "clueweb09-en0010-32-14068 2.4380973456595645\n",
      "clueweb09-en0011-56-28078 2.4380973456595645\n",
      "clueweb09-en0002-81-20335 2.4380973456595645\n",
      "clueweb09-en0011-66-15309 2.4380973456595645\n",
      "clueweb09-en0011-84-29194 2.405192985062241\n",
      "clueweb09-en0007-55-00863 2.405192985062241\n",
      "clueweb09-en0000-03-30761 2.405192985062241\n",
      "clueweb09-en0008-64-31337 2.405192985062241\n",
      "clueweb09-en0005-42-38180 2.405192985062241\n",
      "clueweb09-en0003-88-24170 2.37558580988907\n",
      "clueweb09-en0007-55-00717 2.3731649467625324\n",
      "clueweb09-en0010-82-12605 2.360556560243738\n",
      "clueweb09-en0006-94-11688 2.3419786829490064\n",
      "clueweb09-en0008-62-28973 2.3419786829490064\n",
      "clueweb09-en0005-28-00804 2.3419786829490064\n",
      "clueweb09-en0001-57-08193 2.3419786829490064\n",
      "clueweb09-en0007-49-05462 2.3395618096614372\n",
      "clueweb09-en0009-34-03173 2.3116014382557903\n",
      "clueweb09-en0005-52-18226 2.3116014382557903\n",
      "clueweb09-en0000-84-23721 2.3116014382557903\n",
      "clueweb09-en0001-96-22895 2.2787600483425847\n",
      "clueweb09-en0011-83-32061 2.2787600483425847\n",
      "clueweb09-en0007-18-30977 2.2616937585181205\n",
      "clueweb09-en0001-15-18606 2.2491176931668613\n",
      "clueweb09-en0003-16-03754 2.24683875499004\n",
      "clueweb09-en0007-59-28337 2.24683875499004\n",
      "clueweb09-en0000-73-28356 2.24683875499004\n",
      "clueweb09-en0002-79-29421 2.2127425954968576\n",
      "clueweb09-en0002-43-26392 2.2127425954968576\n",
      "clueweb09-en0011-97-30440 2.2127425954968576\n",
      "clueweb09-en0009-65-08679 2.2127425954968576\n",
      "clueweb09-en0008-43-30435 2.2127425954968576\n",
      "clueweb09-en0005-84-20167 2.2127425954968576\n",
      "clueweb09-en0007-55-00715 2.1796657970426976\n",
      "clueweb09-en0002-50-23399 2.1796657970426976\n",
      "clueweb09-en0006-94-11693 2.1796657970426976\n",
      "clueweb09-en0010-26-42796 2.1796657970426976\n",
      "clueweb09-en0009-58-18330 2.1796657970426976\n",
      "clueweb09-en0010-82-12616 2.158524023178632\n",
      "clueweb09-en0001-02-27066 2.147563319675018\n",
      "clueweb09-en0010-58-27394 2.147563319675018\n",
      "clueweb09-en0005-98-00118 2.147563319675018\n",
      "clueweb09-en0006-61-01068 2.1136038583243226\n",
      "clueweb09-en0006-55-12995 2.1136038583243226\n",
      "clueweb09-en0007-09-06593 2.1136038583243226\n",
      "clueweb09-en0010-75-26187 2.1136038583243226\n",
      "clueweb09-en0000-11-24597 2.1136038583243226\n",
      "clueweb09-en0004-20-13402 2.08070168138547\n",
      "clueweb09-en0006-71-07962 2.08070168138547\n",
      "clueweb09-en0008-06-21146 2.08070168138547\n",
      "clueweb09-en0011-63-08898 2.08070168138547\n",
      "clueweb09-en0011-63-08897 2.08070168138547\n",
      "clueweb09-en0005-46-15175 2.08070168138547\n",
      "clueweb09-en0011-63-08905 2.0488081699053033\n",
      "clueweb09-en0004-47-11582 2.015342199350581\n",
      "clueweb09-en0010-82-12596 2.0148168932316723\n",
      "clueweb09-en0009-84-33861 1.9829519480428188\n",
      "clueweb09-en0005-49-37551 1.9829519480428188\n",
      "clueweb09-en0007-18-31004 1.9787748059272448\n",
      "clueweb09-en0011-67-00100 1.9515863700310645\n",
      "clueweb09-en0008-01-15587 1.9515863700310645\n",
      "clueweb09-en0009-09-26578 1.9515863700310645\n",
      "clueweb09-en0011-63-08930 1.9166062012464902\n",
      "clueweb09-en0011-63-08920 1.9166062012464902\n",
      "clueweb09-en0008-47-26036 1.9166062012464902\n",
      "clueweb09-en0004-37-02167 1.8937192176857032\n",
      "clueweb09-en0004-78-22764 1.8850707852881443\n",
      "clueweb09-en0000-22-01842 1.8850707852881443\n",
      "clueweb09-en0000-52-01924 1.8850707852881443\n",
      "clueweb09-en0000-54-17815 1.8850707852881443\n",
      "clueweb09-en0001-65-05669 1.8850707852881443\n",
      "clueweb09-en0002-82-25423 1.8850707852881443\n",
      "clueweb09-en0011-67-00098 1.8800403651120048\n",
      "clueweb09-en0001-80-31661 1.8440164678868964\n",
      "clueweb09-en0006-27-25503 1.8440164678868964\n",
      "clueweb09-en0001-79-20053 1.8086670457577214\n",
      "clueweb09-en0010-25-36863 1.7682612394150963\n",
      "clueweb09-en0009-67-40148 1.7682612394150963\n",
      "clueweb09-en0003-51-02411 1.723065421669174\n",
      "clueweb09-en0009-88-32616 1.6903789292439395\n",
      "clueweb09-en0003-28-14164 1.6589094729825136\n",
      "clueweb09-en0000-20-02594 1.6044611333816357\n",
      "clueweb09-en0004-50-18530 1.5994499172760734\n",
      "clueweb09-en0001-36-27016 1.5982320259407214\n",
      "clueweb09-en0011-67-00063 1.5635018502635796\n",
      "clueweb09-en0000-14-36711 1.533603213878243\n",
      "clueweb09-en0011-67-00053 1.5325664765112401\n",
      "clueweb09-en0003-16-03746 1.4716888161965878\n",
      "clueweb09-en0010-82-12602 1.4716888161965878\n",
      "clueweb09-en0007-86-08802 1.4412729603772965\n",
      "clueweb09-en0010-77-31701 1.4058247421435062\n",
      "clueweb09-en0006-52-13694 1.323532427719855\n",
      "clueweb09-en0000-81-02281 1.1829666626627817\n",
      "clueweb09-en0002-57-06219 1.026284174478431\n"
     ]
    }
   ],
   "source": [
    "with ix.searcher() as searcher:\n",
    " query = QueryParser(\"content\", ix.schema).parse(query_str)\n",
    " results = searcher.search(query, limit=None)\n",
    " print(\"Results found:\", len(results))\n",
    " for result in results:\n",
    " print(result['id'], result.score)\n",
    " result_list.append(result['id'])"
   ]
  },
  {
   "cell_type": "code",
   "execution_count": 35,
   "metadata": {
    "collapsed": true
   },
   "outputs": [],
   "source": [
    "def read_qrels(file_path, delimiter=' '):\n",
    " with open(file_path, 'r') as csvfile:\n",
    " reader = csv.reader(csvfile, delimiter=delimiter, quotechar='|', quoting=csv.QUOTE_MINIMAL)\n",
    " qrels = {}\n",
    " for row in reader:\n",
    " qrels[row[0]] = int(row[1])\n",
    "\n",
    " return qrels"
   ]
  },
  {
   "cell_type": "code",
   "execution_count": 36,
   "metadata": {},
   "outputs": [],
   "source": [
    "qrels_hash = read_qrels(\"403b-qrels.csv\")"
   ]
  },
  {
   "cell_type": "code",
   "execution_count": 48,
   "metadata": {},
   "outputs": [],
   "source": [
    "def precision(doc_list, qrels, k=10):\n",
    " f = lambda x: qrels[x] if x in qrels else 0\n",
    " vals = list(map(lambda q: 1 if q>0 else 0, map(f, doc_list[:k])))\n",
    " print(vals)\n",
    " return sum(vals)/k"
   ]
  },
  {
   "cell_type": "code",
   "execution_count": 49,
   "metadata": {},
   "outputs": [
    {
     "name": "stdout",
     "output_type": "stream",
     "text": [
      "[0, 1, 1, 1, 1, 0, 0, 0, 1, 1, 0, 0, 0, 1, 1]\n"
     ]
    },
    {
     "data": {
      "text/plain": [
       "0.5333333333333333"
      ]
     },
     "execution_count": 49,
     "metadata": {},
     "output_type": "execute_result"
    }
   ],
   "source": [
    "precision(result_list, qrels_hash, k=15)"
   ]
  },
  {
   "cell_type": "code",
   "execution_count": 52,
   "metadata": {},
   "outputs": [
    {
     "name": "stdout",
     "output_type": "stream",
     "text": [
      "Results found: 288\n",
      "ï»¿ï»¿clueweb09-en0010-82-12593 105.34244377087613\n",
      "clueweb09-en0010-82-12589 73.96384349870026\n",
      "clueweb09-en0010-82-12588 60.51587195348203\n",
      "clueweb09-en0010-82-12518 60.51587195348203\n",
      "clueweb09-en0010-82-12587 56.03321477174262\n",
      "clueweb09-en0002-19-09466 44.8265718173941\n",
      "clueweb09-en0004-37-02167 40.34391463565469\n",
      "clueweb09-en0004-01-03541 35.86125745391528\n",
      "clueweb09-en0009-84-33862 26.89594309043646\n",
      "clueweb09-en0007-18-30966 24.654614499566755\n",
      "clueweb09-en0003-93-27146 20.171957317827346\n",
      "clueweb09-en0011-52-03669 20.171957317827346\n",
      "clueweb09-en0004-80-00508 17.93062872695764\n",
      "clueweb09-en0003-95-21017 15.689300136087935\n",
      "clueweb09-en0008-41-10509 11.206642954348524\n",
      "clueweb09-en0011-67-00065 11.206642954348524\n",
      "clueweb09-en0009-79-14364 11.206642954348524\n",
      "clueweb09-en0007-55-00719 8.96531436347882\n",
      "clueweb09-en0008-24-06210 8.96531436347882\n",
      "clueweb09-en0010-82-12592 8.96531436347882\n",
      "clueweb09-en0007-18-30977 8.96531436347882\n",
      "clueweb09-en0003-88-24170 8.96531436347882\n",
      "clueweb09-en0010-77-31701 8.96531436347882\n",
      "clueweb09-en0000-20-02594 8.96531436347882\n",
      "clueweb09-en0007-84-37981 6.723985772609115\n",
      "clueweb09-en0007-55-00718 6.723985772609115\n",
      "clueweb09-en0008-24-06121 6.723985772609115\n",
      "clueweb09-en0001-79-20053 6.723985772609115\n",
      "clueweb09-en0001-41-08510 6.723985772609115\n",
      "clueweb09-en0009-82-05607 6.723985772609115\n",
      "clueweb09-en0005-56-35975 6.723985772609115\n",
      "clueweb09-en0009-52-27808 6.723985772609115\n",
      "clueweb09-en0001-80-31661 6.723985772609115\n",
      "clueweb09-en0000-14-03360 6.723985772609115\n",
      "clueweb09-en0008-62-39243 6.723985772609115\n",
      "clueweb09-en0004-20-13408 6.723985772609115\n",
      "clueweb09-en0005-53-09280 6.723985772609115\n",
      "clueweb09-en0001-15-18606 6.723985772609115\n",
      "clueweb09-en0009-25-11750 6.723985772609115\n",
      "clueweb09-en0010-82-12605 6.723985772609115\n",
      "clueweb09-en0004-35-06003 6.723985772609115\n",
      "clueweb09-en0006-27-25503 6.723985772609115\n",
      "clueweb09-en0004-50-18530 6.723985772609115\n",
      "clueweb09-en0011-67-00098 6.723985772609115\n",
      "clueweb09-en0007-55-00754 4.48265718173941\n",
      "clueweb09-en0003-88-24169 4.48265718173941\n",
      "clueweb09-en0005-82-07314 4.48265718173941\n",
      "clueweb09-en0003-16-13779 4.48265718173941\n",
      "clueweb09-en0010-17-26572 4.48265718173941\n",
      "clueweb09-en0004-20-13399 4.48265718173941\n",
      "clueweb09-en0001-99-22964 4.48265718173941\n",
      "clueweb09-en0009-46-17686 4.48265718173941\n",
      "clueweb09-en0009-94-31189 4.48265718173941\n",
      "clueweb09-en0009-73-08566 4.48265718173941\n",
      "clueweb09-en0011-68-03841 4.48265718173941\n",
      "clueweb09-en0005-52-18981 4.48265718173941\n",
      "clueweb09-en0003-37-05122 4.48265718173941\n",
      "clueweb09-en0007-40-22841 4.48265718173941\n",
      "clueweb09-en0004-75-07682 4.48265718173941\n",
      "clueweb09-en0004-62-21431 4.48265718173941\n",
      "clueweb09-en0000-10-01627 4.48265718173941\n",
      "clueweb09-en0002-59-21571 4.48265718173941\n",
      "clueweb09-en0007-49-05462 4.48265718173941\n",
      "clueweb09-en0010-82-12616 4.48265718173941\n",
      "clueweb09-en0005-38-02471 4.48265718173941\n",
      "clueweb09-en0008-84-31988 4.48265718173941\n",
      "clueweb09-en0007-18-31004 4.48265718173941\n",
      "clueweb09-en0010-82-12596 4.48265718173941\n",
      "clueweb09-en0010-25-36863 4.48265718173941\n",
      "clueweb09-en0009-67-40148 4.48265718173941\n",
      "clueweb09-en0001-36-27016 4.48265718173941\n",
      "clueweb09-en0011-67-00053 4.48265718173941\n",
      "clueweb09-en0006-73-25389 2.241328590869705\n",
      "clueweb09-en0010-79-01642 2.241328590869705\n",
      "clueweb09-en0011-06-39804 2.241328590869705\n",
      "clueweb09-en0010-79-01651 2.241328590869705\n",
      "clueweb09-en0009-93-11725 2.241328590869705\n",
      "clueweb09-en0003-16-03754 2.241328590869705\n",
      "clueweb09-en0000-41-16092 2.241328590869705\n",
      "clueweb09-en0001-92-00499 2.241328590869705\n",
      "clueweb09-en0001-54-14652 2.241328590869705\n",
      "clueweb09-en0006-95-39509 2.241328590869705\n",
      "clueweb09-en0009-74-17389 2.241328590869705\n",
      "clueweb09-en0011-84-29194 2.241328590869705\n",
      "clueweb09-en0007-55-00847 2.241328590869705\n",
      "clueweb09-en0007-55-00716 2.241328590869705\n",
      "clueweb09-en0005-24-24966 2.241328590869705\n",
      "clueweb09-en0000-81-02281 2.241328590869705\n",
      "clueweb09-en0009-88-32616 2.241328590869705\n",
      "clueweb09-en0003-16-03746 2.241328590869705\n",
      "clueweb09-en0007-55-00714 2.241328590869705\n",
      "clueweb09-en0011-44-34605 2.241328590869705\n",
      "clueweb09-en0009-23-31423 2.241328590869705\n",
      "clueweb09-en0007-55-00887 2.241328590869705\n",
      "clueweb09-en0007-55-00715 2.241328590869705\n",
      "clueweb09-en0007-55-00717 2.241328590869705\n",
      "clueweb09-en0007-55-00863 2.241328590869705\n",
      "clueweb09-en0001-92-00529 2.241328590869705\n",
      "clueweb09-en0000-14-36711 2.241328590869705\n",
      "clueweb09-en0009-84-33861 2.241328590869705\n",
      "clueweb09-en0004-83-01960 2.241328590869705\n",
      "clueweb09-en0010-82-12602 2.241328590869705\n",
      "clueweb09-en0011-67-00100 2.241328590869705\n",
      "clueweb09-en0011-67-00063 2.241328590869705\n",
      "clueweb09-en0004-33-24199 2.241328590869705\n",
      "clueweb09-en0005-81-30831 2.241328590869705\n",
      "clueweb09-en0005-82-33573 2.241328590869705\n",
      "clueweb09-en0000-97-20518 2.241328590869705\n",
      "clueweb09-en0001-41-08506 2.241328590869705\n",
      "clueweb09-en0007-03-16611 2.241328590869705\n",
      "clueweb09-en0010-62-17439 2.241328590869705\n",
      "clueweb09-en0010-33-29246 2.241328590869705\n",
      "clueweb09-en0008-86-21354 2.241328590869705\n",
      "clueweb09-en0004-44-09495 2.241328590869705\n",
      "clueweb09-en0002-20-15453 2.241328590869705\n",
      "clueweb09-en0002-35-09523 2.241328590869705\n",
      "clueweb09-en0000-85-24996 2.241328590869705\n",
      "clueweb09-en0001-02-27070 2.241328590869705\n",
      "clueweb09-en0001-23-25550 2.241328590869705\n",
      "clueweb09-en0007-93-11243 2.241328590869705\n",
      "clueweb09-en0011-44-17887 2.241328590869705\n",
      "clueweb09-en0009-63-21838 2.241328590869705\n",
      "clueweb09-en0008-64-11078 2.241328590869705\n",
      "clueweb09-en0011-99-30168 2.241328590869705\n",
      "clueweb09-en0011-77-05552 2.241328590869705\n",
      "clueweb09-en0011-95-18002 2.241328590869705\n",
      "clueweb09-en0009-15-34349 2.241328590869705\n",
      "clueweb09-en0005-82-27244 2.241328590869705\n",
      "clueweb09-en0009-04-27409 2.241328590869705\n",
      "clueweb09-en0006-52-13694 2.241328590869705\n",
      "clueweb09-en0007-86-08802 2.241328590869705\n",
      "clueweb09-en0002-57-06219 2.241328590869705\n",
      "clueweb09-en0004-01-30460 2.241328590869705\n",
      "clueweb09-en0004-37-04144 2.241328590869705\n",
      "clueweb09-en0003-57-09906 2.241328590869705\n",
      "clueweb09-en0003-30-08703 2.241328590869705\n",
      "clueweb09-en0000-13-29144 2.241328590869705\n",
      "clueweb09-en0000-36-25235 2.241328590869705\n",
      "clueweb09-en0002-79-25031 2.241328590869705\n",
      "clueweb09-en0002-70-17056 2.241328590869705\n",
      "clueweb09-en0001-13-16664 2.241328590869705\n",
      "clueweb09-en0000-99-07984 2.241328590869705\n",
      "clueweb09-en0001-41-08505 2.241328590869705\n",
      "clueweb09-en0003-30-08704 2.241328590869705\n",
      "clueweb09-en0000-05-20758 2.241328590869705\n",
      "clueweb09-en0000-03-30761 2.241328590869705\n",
      "clueweb09-en0011-22-16581 2.241328590869705\n",
      "clueweb09-en0011-35-01851 2.241328590869705\n",
      "clueweb09-en0011-06-39809 2.241328590869705\n",
      "clueweb09-en0010-99-06872 2.241328590869705\n",
      "clueweb09-en0007-09-06594 2.241328590869705\n",
      "clueweb09-en0006-58-17064 2.241328590869705\n",
      "clueweb09-en0006-94-08016 2.241328590869705\n",
      "clueweb09-en0006-75-32036 2.241328590869705\n",
      "clueweb09-en0006-59-15562 2.241328590869705\n",
      "clueweb09-en0005-97-23767 2.241328590869705\n",
      "clueweb09-en0009-81-37061 2.241328590869705\n",
      "clueweb09-en0010-88-01445 2.241328590869705\n",
      "clueweb09-en0007-97-12197 2.241328590869705\n",
      "clueweb09-en0004-51-33789 2.241328590869705\n",
      "clueweb09-en0004-79-30162 2.241328590869705\n",
      "clueweb09-en0011-55-22323 2.241328590869705\n",
      "clueweb09-en0011-49-32965 2.241328590869705\n",
      "clueweb09-en0011-43-11159 2.241328590869705\n",
      "clueweb09-en0008-23-16530 2.241328590869705\n",
      "clueweb09-en0008-46-17648 2.241328590869705\n",
      "clueweb09-en0008-61-00155 2.241328590869705\n",
      "clueweb09-en0011-75-26293 2.241328590869705\n",
      "clueweb09-en0011-98-17424 2.241328590869705\n",
      "clueweb09-en0011-90-11940 2.241328590869705\n",
      "clueweb09-en0009-25-11746 2.241328590869705\n",
      "clueweb09-en0009-25-11744 2.241328590869705\n",
      "clueweb09-en0005-60-04959 2.241328590869705\n",
      "clueweb09-en0005-41-38503 2.241328590869705\n",
      "clueweb09-en0005-47-21143 2.241328590869705\n",
      "clueweb09-en0008-83-13310 2.241328590869705\n",
      "clueweb09-en0001-41-26079 2.241328590869705\n",
      "clueweb09-en0002-97-16973 2.241328590869705\n",
      "clueweb09-en0004-18-30453 2.241328590869705\n",
      "clueweb09-en0003-16-13798 2.241328590869705\n",
      "clueweb09-en0006-00-02700 2.241328590869705\n",
      "clueweb09-en0007-54-13479 2.241328590869705\n",
      "clueweb09-en0008-24-06118 2.241328590869705\n",
      "clueweb09-en0007-59-28337 2.241328590869705\n",
      "clueweb09-en0006-94-11688 2.241328590869705\n",
      "clueweb09-en0007-03-37389 2.241328590869705\n",
      "clueweb09-en0006-21-36525 2.241328590869705\n",
      "clueweb09-en0010-04-25824 2.241328590869705\n",
      "clueweb09-en0010-79-01542 2.241328590869705\n",
      "clueweb09-en0008-24-06113 2.241328590869705\n",
      "clueweb09-en0010-32-14068 2.241328590869705\n",
      "clueweb09-en0011-56-28078 2.241328590869705\n",
      "clueweb09-en0011-81-14065 2.241328590869705\n",
      "clueweb09-en0011-77-36064 2.241328590869705\n",
      "clueweb09-en0011-00-18393 2.241328590869705\n",
      "clueweb09-en0011-70-15598 2.241328590869705\n",
      "clueweb09-en0011-26-10075 2.241328590869705\n",
      "clueweb09-en0008-60-09818 2.241328590869705\n",
      "clueweb09-en0008-77-26203 2.241328590869705\n",
      "clueweb09-en0011-58-36244 2.241328590869705\n",
      "clueweb09-en0011-49-35778 2.241328590869705\n",
      "clueweb09-en0009-25-16125 2.241328590869705\n",
      "clueweb09-en0009-34-03173 2.241328590869705\n",
      "clueweb09-en0005-58-05817 2.241328590869705\n",
      "clueweb09-en0007-54-13482 2.241328590869705\n",
      "clueweb09-en0007-84-11305 2.241328590869705\n",
      "clueweb09-en0008-64-31337 2.241328590869705\n",
      "clueweb09-en0005-25-15002 2.241328590869705\n",
      "clueweb09-en0005-52-18226 2.241328590869705\n",
      "clueweb09-en0005-42-38180 2.241328590869705\n",
      "clueweb09-en0004-16-08467 2.241328590869705\n",
      "clueweb09-en0004-20-13402 2.241328590869705\n",
      "clueweb09-en0002-19-23070 2.241328590869705\n",
      "clueweb09-en0000-38-27561 2.241328590869705\n",
      "clueweb09-en0001-90-03226 2.241328590869705\n",
      "clueweb09-en0002-79-29421 2.241328590869705\n",
      "clueweb09-en0002-81-20335 2.241328590869705\n",
      "clueweb09-en0001-79-26694 2.241328590869705\n",
      "clueweb09-en0001-96-22895 2.241328590869705\n",
      "clueweb09-en0002-50-23399 2.241328590869705\n",
      "clueweb09-en0002-66-04782 2.241328590869705\n",
      "clueweb09-en0002-43-26392 2.241328590869705\n",
      "clueweb09-en0001-29-16706 2.241328590869705\n",
      "clueweb09-en0000-84-23721 2.241328590869705\n",
      "clueweb09-en0001-02-27066 2.241328590869705\n",
      "clueweb09-en0000-95-10297 2.241328590869705\n",
      "clueweb09-en0004-16-25603 2.241328590869705\n",
      "clueweb09-en0000-25-20929 2.241328590869705\n",
      "clueweb09-en0009-92-30899 2.241328590869705\n",
      "clueweb09-en0010-09-24153 2.241328590869705\n",
      "clueweb09-en0006-61-01068 2.241328590869705\n",
      "clueweb09-en0006-55-12995 2.241328590869705\n",
      "clueweb09-en0008-02-24727 2.241328590869705\n",
      "clueweb09-en0007-83-12597 2.241328590869705\n",
      "clueweb09-en0004-78-22764 2.241328590869705\n",
      "clueweb09-en0007-09-06593 2.241328590869705\n",
      "clueweb09-en0006-71-07962 2.241328590869705\n",
      "clueweb09-en0006-94-11693 2.241328590869705\n",
      "clueweb09-en0011-97-30440 2.241328590869705\n",
      "clueweb09-en0011-83-32061 2.241328590869705\n",
      "clueweb09-en0009-79-14382 2.241328590869705\n",
      "clueweb09-en0010-75-26187 2.241328590869705\n",
      "clueweb09-en0008-06-21146 2.241328590869705\n",
      "clueweb09-en0008-44-37908 2.241328590869705\n",
      "clueweb09-en0008-01-15587 2.241328590869705\n",
      "clueweb09-en0008-02-24716 2.241328590869705\n",
      "clueweb09-en0004-67-26353 2.241328590869705\n",
      "clueweb09-en0004-47-11582 2.241328590869705\n",
      "clueweb09-en0010-58-27394 2.241328590869705\n",
      "clueweb09-en0010-26-42796 2.241328590869705\n",
      "clueweb09-en0010-55-07748 2.241328590869705\n",
      "clueweb09-en0011-63-08930 2.241328590869705\n",
      "clueweb09-en0011-63-08920 2.241328590869705\n",
      "clueweb09-en0011-66-15309 2.241328590869705\n",
      "clueweb09-en0011-63-08905 2.241328590869705\n",
      "clueweb09-en0009-33-22670 2.241328590869705\n",
      "clueweb09-en0009-65-08679 2.241328590869705\n",
      "clueweb09-en0009-58-18330 2.241328590869705\n",
      "clueweb09-en0008-62-28973 2.241328590869705\n",
      "clueweb09-en0008-47-26036 2.241328590869705\n",
      "clueweb09-en0008-37-01538 2.241328590869705\n",
      "clueweb09-en0008-43-30435 2.241328590869705\n",
      "clueweb09-en0011-63-08898 2.241328590869705\n",
      "clueweb09-en0011-63-08897 2.241328590869705\n",
      "clueweb09-en0005-46-15175 2.241328590869705\n",
      "clueweb09-en0005-49-37551 2.241328590869705\n",
      "clueweb09-en0007-55-00762 2.241328590869705\n",
      "clueweb09-en0008-74-29642 2.241328590869705\n",
      "clueweb09-en0009-09-26578 2.241328590869705\n",
      "clueweb09-en0008-77-26237 2.241328590869705\n",
      "clueweb09-en0005-84-20167 2.241328590869705\n",
      "clueweb09-en0005-98-00118 2.241328590869705\n",
      "clueweb09-en0005-74-35658 2.241328590869705\n",
      "clueweb09-en0005-28-00804 2.241328590869705\n",
      "clueweb09-en0000-73-28356 2.241328590869705\n",
      "clueweb09-en0003-28-14164 2.241328590869705\n",
      "clueweb09-en0003-51-00909 2.241328590869705\n",
      "clueweb09-en0003-51-02411 2.241328590869705\n",
      "clueweb09-en0000-22-01842 2.241328590869705\n",
      "clueweb09-en0000-52-01924 2.241328590869705\n",
      "clueweb09-en0000-11-24597 2.241328590869705\n",
      "clueweb09-en0000-54-17815 2.241328590869705\n",
      "clueweb09-en0003-88-24206 2.241328590869705\n",
      "clueweb09-en0001-57-08193 2.241328590869705\n",
      "clueweb09-en0001-65-05669 2.241328590869705\n",
      "clueweb09-en0002-82-25423 2.241328590869705\n",
      "clueweb09-en0002-85-01347 2.241328590869705\n",
      "clueweb09-en0002-05-19563 2.241328590869705\n"
     ]
    }
   ],
   "source": [
    "result_list = []\n",
    "with ix.searcher(weighting =w) as searcher:\n",
    " query = QueryParser(\"content\", ix.schema).parse(query_str)\n",
    " results = searcher.search(query, limit=None)\n",
    " print(\"Results found:\", len(results))\n",
    " for result in results:\n",
    " print(result['id'], result.score)\n",
    " result_list.append(result['id'])"
   ]
  },
  {
   "cell_type": "code",
   "execution_count": 53,
   "metadata": {},
   "outputs": [
    {
     "name": "stdout",
     "output_type": "stream",
     "text": [
      "[0, 1, 1, 1, 1, 1, 0, 1, 0, 0, 0, 0, 1, 0, 0]\n"
     ]
    },
    {
     "data": {
      "text/plain": [
       "0.4666666666666667"
      ]
     },
     "execution_count": 53,
     "metadata": {},
     "output_type": "execute_result"
    }
   ],
   "source": [
    "precision(result_list, qrels_hash, k=15)"
   ]
  },
  {
   "cell_type": "code",
   "execution_count": null,
   "metadata": {
    "collapsed": true
   },
   "outputs": [],
   "source": []
  }
 ],
 "metadata": {
  "anaconda-cloud": {},
  "kernelspec": {
   "display_name": "Python 3",
   "language": "python",
   "name": "python3"
  },
  "language_info": {
   "codemirror_mode": {
    "name": "ipython",
    "version": 3
   },
   "file_extension": ".py",
   "mimetype": "text/x-python",
   "name": "python",
   "nbconvert_exporter": "python",
   "pygments_lexer": "ipython3",
   "version": "3.6.3"
  }
 },
 "nbformat": 4,
 "nbformat_minor": 1
}
